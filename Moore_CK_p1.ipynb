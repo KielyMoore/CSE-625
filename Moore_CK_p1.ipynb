{
 "cells": [
  {
   "attachments": {},
   "cell_type": "markdown",
   "metadata": {},
   "source": [
    "# CSE 625 Project 1 \n",
    "Christopher Moore \n",
    "06/09/2023"
   ]
  },
  {
   "attachments": {},
   "cell_type": "markdown",
   "metadata": {},
   "source": [
    "## Problem 1"
   ]
  },
  {
   "attachments": {},
   "cell_type": "markdown",
   "metadata": {},
   "source": [
    "### 1.1 \n",
    "\n",
    "the eps() function returns the distance from 1.0 to the next largest representable floating point number for the tye of float using eps(x) gives the difference between that number and the next larger representable floating point value, such that x + eps(x) = next largest float. running the eps(x) passing in 0 as both a 32 bit and 64 bit number shows the smallest representable positive floating point number for each data type.\n",
    "\n",
    "this is beacause all floating point numbers cannot be represented with 64 and 32 bit floats and have to be estimated with bits."
   ]
  },
  {
   "cell_type": "code",
   "execution_count": 6,
   "metadata": {},
   "outputs": [
    {
     "name": "stdout",
     "output_type": "stream",
     "text": [
      "1.0e-45 5.0e-324"
     ]
    }
   ],
   "source": [
    "eps32 = eps(0f0)\n",
    "eps64 = eps(0.0)\n",
    "\n",
    "print(eps32, \" \", eps64)"
   ]
  },
  {
   "attachments": {},
   "cell_type": "markdown",
   "metadata": {},
   "source": [
    "### 1.2"
   ]
  },
  {
   "cell_type": "code",
   "execution_count": 7,
   "metadata": {},
   "outputs": [
    {
     "name": "stdout",
     "output_type": "stream",
     "text": [
      "loop: "
     ]
    },
    {
     "name": "stdout",
     "output_type": "stream",
     "text": [
      "  6.404604 seconds (3.10 k allocations: 212.651 KiB, 0.63% compilation time)\n",
      "Returned Sum: 2.3509887e-38\n"
     ]
    },
    {
     "name": "stdout",
     "output_type": "stream",
     "text": [
      "foldr:   3.307129 seconds (4 allocations: 64 bytes)\n",
      "Returned Sum: 2.3509887e-38\n"
     ]
    },
    {
     "name": "stdout",
     "output_type": "stream",
     "text": [
      "reduce:   0.955752 seconds (1 allocation: 16 bytes)\n",
      "Returned Sum: 2.802597e-36\n"
     ]
    },
    {
     "name": "stdout",
     "output_type": "stream",
     "text": [
      "sum:   0.938670 seconds (1 allocation: 16 bytes)\n",
      "Returned Sum: 2.802597e-36\n"
     ]
    }
   ],
   "source": [
    "v = fill(eps32, 2_000_000_000)\n",
    "\n",
    "function loopsum(a)\n",
    "    sum = 0\n",
    "    for i=1:length(a)\n",
    "        sum += a[i]\n",
    "    end\n",
    "    return sum\n",
    "end\n",
    "\n",
    "print(\"loop: \")\n",
    "@time l = loopsum(v)\n",
    "println(\"Returned Sum: \", l)\n",
    "print(\"foldr: \")\n",
    "@time f = foldr(+, v)\n",
    "println(\"Returned Sum: \", f)\n",
    "print(\"reduce: \")\n",
    "@time r = reduce(+, v)\n",
    "println(\"Returned Sum: \", r)\n",
    "print(\"sum: \")\n",
    "@time s = sum(v)\n",
    "println(\"Returned Sum: \", s)"
   ]
  },
  {
   "cell_type": "code",
   "execution_count": 8,
   "metadata": {},
   "outputs": [
    {
     "name": "stdout",
     "output_type": "stream",
     "text": [
      "l: Float32\n",
      "f: Float32\n",
      "r: Float32\n",
      "s: Float32\n"
     ]
    }
   ],
   "source": [
    "println(\"l: \", typeof(l))\n",
    "println(\"f: \", typeof(f))\n",
    "println(\"r: \", typeof(r))\n",
    "println(\"s: \", typeof(s))"
   ]
  },
  {
   "attachments": {},
   "cell_type": "markdown",
   "metadata": {},
   "source": [
    "## Problem 2"
   ]
  },
  {
   "attachments": {
    "image.png": {
     "image/png": "[encoded data removed]"
    }
   },
   "cell_type": "markdown",
   "metadata": {},
   "source": [
    "### 2.1\n",
    "\n",
    "the following two functions implement the fibonacci sequence using matrix exponentiation. The following eqution represents the sequence.\n",
    "![image.png](attachment:image.png)\n",
    "\n",
    "the resulting 2x2 matrix is multiplied by a 2x1 matrix reducing the result to a 2x1 matrix.\n",
    "fib_1(n) multiplies the matrix by [1 0] resulting in the matrix [F<sub>n+1</sub>, F<sub>n</sub>]\n",
    "fib_2(n) multiplies the matrix by [1,1] resulting in the matrix [F<sub>n+1</sub> + F<sub>n</sub>, F<sub>n</sub> + F<sub>n-1</sub>]"
   ]
  },
  {
   "cell_type": "code",
   "execution_count": 9,
   "metadata": {},
   "outputs": [
    {
     "data": {
      "text/plain": [
       "fib_2 (generic function with 1 method)"
      ]
     },
     "metadata": {},
     "output_type": "display_data"
    }
   ],
   "source": [
    "fib_1(n) = first([1 1;1 0]^(n-1)*[1,0])\n",
    "fib_2(n) = last( [1 1;1 0]^(n-1)*[1,1])\n"
   ]
  },
  {
   "attachments": {},
   "cell_type": "markdown",
   "metadata": {},
   "source": [
    "### 2.2"
   ]
  },
  {
   "cell_type": "code",
   "execution_count": 10,
   "metadata": {},
   "outputs": [
    {
     "data": {
      "text/plain": [
       "fib_r (generic function with 1 method)"
      ]
     },
     "metadata": {},
     "output_type": "display_data"
    }
   ],
   "source": [
    "function fib_r(n::Integer)\n",
    "    #if(n <= 2) return 1\n",
    "    n <= 2 && return 1\n",
    "    #else return ...\n",
    "    return fib_r(n-1) + fib_r(n-2)\n",
    "end"
   ]
  },
  {
   "attachments": {},
   "cell_type": "markdown",
   "metadata": {},
   "source": [
    "### 2.3\n",
    "comparing the computation time between the different implementations of the fibonacci function we can see that fib_1 and fib_2 are signifigantly faster when trying to compute larger values in the fibonacci sequence. caluclating the 40th digit takes microseconds for the first function as compared to the half a second the recursive function takes. Each call of fib_r() creates to new calls to itself, which is extremely costly. "
   ]
  },
  {
   "cell_type": "code",
   "execution_count": 11,
   "metadata": {},
   "outputs": [],
   "source": [
    "time1 = []\n",
    "time2 = []\n",
    "timer = []\n",
    "sampleRange = 20:40\n",
    "for i=sampleRange\n",
    "    push!(time1, @elapsed fib_1(i))\n",
    "    push!(time2, @elapsed fib_2(i))\n",
    "    push!(timer, @elapsed fib_r(i))\n",
    "end\n"
   ]
  },
  {
   "cell_type": "code",
   "execution_count": 12,
   "metadata": {},
   "outputs": [
    {
     "name": "stdout",
     "output_type": "stream",
     "text": [
      "   n | fib_1      | fib_2      | fib_r     \n",
      "-------------------------------------\n",
      "  20 | 3.6834583  | 0.0202971  | 0.0101727 \n",
      "  21 | 5.0e-6     | 2.2e-6     | 4.21e-5   \n",
      "  22 | 9.0e-7     | 7.0e-7     | 9.01e-5   \n",
      "  23 | 1.3e-6     | 1.0e-6     | 0.0001098 \n",
      "  24 | 2.0e-6     | 2.0e-6     | 0.0002102 \n",
      "  25 | "
     ]
    },
    {
     "name": "stdout",
     "output_type": "stream",
     "text": [
      "1.2e-6     | 8.0e-7     | 0.0003224 \n",
      "  26 | 1.9e-6     | 7.0e-7     | 0.0005149 \n",
      "  27 | 1.3e-6     | 8.0e-7     | 0.0008324 \n",
      "  28 | 1.4e-6     | 9.0e-7     | 0.0013477 \n",
      "  29 | 1.3e-6     | 7.0e-7     | 0.0021365 \n",
      "  30 | 1.5e-6     | 9.0e-7     | 0.0034659 \n",
      "  31 | 1.6e-6     | 1.0e-6     | 0.0061847 \n",
      "  32 | 4.9e-6     | 1.2e-6     | 0.0081745 \n",
      "  33 | 2.4e-6     | 9.0e-7     | 0.0137545 \n",
      "  34 | 3.7e-6     | 1.0e-6     | 0.0223709 \n",
      "  35 | 4.6e-6     | 1.1e-6     | 0.0449216 \n",
      "  36 | 4.0e-6     | 1.2e-6     | 0.0939042 \n",
      "  37 | 4.2e-6     | 1.1e-6     | 0.1185914 \n",
      "  38 | 5.1e-6     | 1.2e-6     | 0.2248309 \n",
      "  39 | 7.0e-6     | 2.6e-6     | 0.2735976 \n",
      "  40 | 5.9e-6     | 1.9e-6     | 0.5257383 \n"
     ]
    }
   ],
   "source": [
    "pn = lpad(\"n\",4)\n",
    "pfib_1 = rpad(\"fib_1\", 10)\n",
    "pfib_2 = rpad(\"fib_2\", 10)\n",
    "pfib_r = rpad(\"fib_r\", 10)\n",
    "println(pn,\" | \",pfib_1,\" | \",pfib_2,\" | \",pfib_r)\n",
    "println(\"-------------------------------------\")\n",
    "for s = 1:length(time1)\n",
    "    pn = lpad(sampleRange[s], 4)\n",
    "    pfib_1 = rpad(time1[s], 10)\n",
    "    pfib_2 = rpad(time2[s], 10)\n",
    "    pfib_r = rpad(timer[s], 10)\n",
    "    println(pn,\" | \",pfib_1,\" | \",pfib_2,\" | \",pfib_r)\n",
    "end\n",
    "    "
   ]
  },
  {
   "attachments": {},
   "cell_type": "markdown",
   "metadata": {},
   "source": [
    "## Problem 3"
   ]
  },
  {
   "attachments": {},
   "cell_type": "markdown",
   "metadata": {},
   "source": [
    "### 3.1\n"
   ]
  },
  {
   "cell_type": "code",
   "execution_count": 13,
   "metadata": {},
   "outputs": [
    {
     "data": {
      "text/plain": [
       "sinx (generic function with 1 method)"
      ]
     },
     "metadata": {},
     "output_type": "display_data"
    }
   ],
   "source": [
    "function sinx(x, n::Integer, degree::Bool)\n",
    "    if degree x *= π/180 end\n",
    "    result = 0\n",
    "    for n=0:n-1\n",
    "        result += (-1)^n * x^(2n+1) / factorial(big(2n+1))\n",
    "    end\n",
    "    return result\n",
    "end"
   ]
  },
  {
   "cell_type": "code",
   "execution_count": 14,
   "metadata": {},
   "outputs": [],
   "source": [
    "angleRange = 1:10:90\n",
    "\n",
    "xresult::Vector{AbstractFloat} = []\n",
    "dresult = []\n",
    "for d=angleRange\n",
    "    push!(xresult, sinx(d, 5, true))\n",
    "    push!(dresult, sind(d))\n",
    "end"
   ]
  },
  {
   "cell_type": "code",
   "execution_count": 15,
   "metadata": {},
   "outputs": [
    {
     "name": "stdout",
     "output_type": "stream",
     "text": [
      "   d |     sinx |     sind\n",
      "-------------------------------------"
     ]
    },
    {
     "name": "stdout",
     "output_type": "stream",
     "text": [
      "\n",
      "   1 | 0.01749999999999999999999999999999999999999999999999999999999999999999999999999996 | 0.0175\n",
      "  11 | 0.1907999999999999999999999999999999999999999999999999999999999999999999999999997 | 0.1908\n",
      "  21 | 0.3583999999999999999999999999999999999999999999999999999999999999999999999999995 | 0.3584\n",
      "  31 | 0.5149999999999999999999999999999999999999999999999999999999999999999999999999997 |  0.515\n",
      "  41 | 0.6560999999999999999999999999999999999999999999999999999999999999999999999999999 | 0.6561\n",
      "  51 | 0.7770999999999999999999999999999999999999999999999999999999999999999999999999977 | 0.7771\n",
      "  61 | 0.8745999999999999999999999999999999999999999999999999999999999999999999999999998 | 0.8746\n",
      "  71 | 0.9454999999999999999999999999999999999999999999999999999999999999999999999999958 | 0.9455\n",
      "  81 | 0.9877000000000000000000000000000000000000000000000000000000000000000000000000018 | 0.9877\n"
     ]
    }
   ],
   "source": [
    "pd = lpad(\"d\",4)\n",
    "psinx = lpad(\"sinx\", 8)\n",
    "psind = lpad(\"sind\", 8)\n",
    "println(pd,\" | \",psinx,\" | \",psind)\n",
    "println(\"-------------------------------------\")\n",
    "for a=1:length(xresult)\n",
    "    pd = lpad(angleRange[a], 4)\n",
    "    psinx = lpad(round(xresult[a], digits=4), 6)\n",
    "    psind = lpad(round(dresult[a], digits=4), 6)\n",
    "    println(pd,\" | \",psinx,\" | \",psind,)\n",
    "end"
   ]
  },
  {
   "attachments": {},
   "cell_type": "markdown",
   "metadata": {},
   "source": [
    "### 3.2\n",
    "\n",
    "the implemention of sinx is slower compared to the built in sind funtion julia provides. "
   ]
  },
  {
   "cell_type": "code",
   "execution_count": 16,
   "metadata": {},
   "outputs": [],
   "source": [
    "function x(inc)\n",
    "    for angle = 1:inc:90\n",
    "        sinx(angle, 10, true)\n",
    "    end\n",
    "end\n",
    "\n",
    "function d(inc)\n",
    "    for angle = 1:inc:90\n",
    "        sind(angle)\n",
    "    end\n",
    "end\n",
    "\n",
    "incRange = [0.1 0.01 0.001 0.000_1 0.000_01 0.000_001 0.000_000_1]\n",
    "xtime = []\n",
    "dtime = []\n",
    "for i=incRange\n",
    "    push!(xtime, @elapsed x(i))\n",
    "    push!(dtime, @elapsed d(i))\n",
    "end"
   ]
  },
  {
   "cell_type": "code",
   "execution_count": 17,
   "metadata": {},
   "outputs": [
    {
     "name": "stdout",
     "output_type": "stream",
     "text": [
      "   inc |     sinx |     sind\n",
      "-------------------------------------"
     ]
    },
    {
     "name": "stdout",
     "output_type": "stream",
     "text": [
      "\n",
      "   0.1 |    0.2483 |    0.0481\n",
      "  0.01 |    0.1737 |    0.0003\n",
      " 0.001 |    1.5092 |    0.0015\n",
      "0.0001 |   12.2372 |    0.0178\n",
      "1.0e-5 |   95.4792 |    0.1968\n",
      "1.0e-6 |  946.3867 |    1.8715\n",
      "1.0e-7 | 9717.3899 |    17.533\n"
     ]
    }
   ],
   "source": [
    "pd = lpad(\"inc\",length(\"1.0e-6\"))\n",
    "psinx = lpad(\"sinx\", 8)\n",
    "psind = lpad(\"sind\", 8)\n",
    "println(pd,\" | \",psinx,\" | \",psind)\n",
    "println(\"-------------------------------------\")\n",
    "for a=1:length(xtime)\n",
    "    pd = lpad(incRange[a], length(\"1.0e-6\"))\n",
    "    psinx = lpad(round(xtime[a], digits=4), 9)\n",
    "    psind = lpad(round(dtime[a], digits=4), 9)\n",
    "    println(pd,\" | \",psinx,\" | \",psind,)\n",
    "end"
   ]
  }
 ],
 "metadata": {
  "kernelspec": {
   "display_name": "Julia 1.9.0",
   "language": "julia",
   "name": "julia-1.9"
  },
  "language_info": {
   "file_extension": ".jl",
   "mimetype": "application/julia",
   "name": "julia",
   "version": "1.9.0"
  },
  "orig_nbformat": 4
 },
 "nbformat": 4,
 "nbformat_minor": 2
}
